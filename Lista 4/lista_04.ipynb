{
 "cells": [
  {
   "cell_type": "markdown",
   "metadata": {},
   "source": [
    "### Aluno: Lucas Rodrigues Aragão (538390)"
   ]
  },
  {
   "cell_type": "markdown",
   "metadata": {},
   "source": [
    "O enunciado permite o uso de implementações já feitas, nesse caso escolhi a do sklearn pela familiaridade com a biblioteca.\n",
    "\n",
    "Com isso, o que deve ser implementado aqui são as funções auxiliares."
   ]
  },
  {
   "cell_type": "code",
   "execution_count": 1,
   "metadata": {},
   "outputs": [],
   "source": [
    "import numpy as np\n",
    "import pandas as pd\n",
    "import matplotlib.pyplot as plt\n",
    "from sklearn.model_selection import train_test_split\n",
    "from sklearn.neural_network import MLPRegressor, MLPClassifier\n",
    "from sklearn.preprocessing import StandardScaler"
   ]
  },
  {
   "cell_type": "markdown",
   "metadata": {},
   "source": [
    "## Criando o grid search para encontrar o melhor conjunto de hiperparametros para o modelo"
   ]
  },
  {
   "cell_type": "code",
   "execution_count": 2,
   "metadata": {},
   "outputs": [],
   "source": [
    "def test_hyperparameter_rec(hyperparameter_list, model, x_train, x_teste, y_train, y_teste, scaler_y = None, hyperparameter=0, hyperparameters_atuais=[]):\n",
    "    \"\"\"\n",
    "    essa funcao calcula recursivamente as metricas de avaliacao para todas as combinacoes de hiperparametros possiveis e retorna elas em formato de lista\n",
    "    \n",
    "    \"\"\"\n",
    "    \n",
    "    if len(hyperparameters_atuais) == len(hyperparameter_list):\n",
    "        if isinstance(model, MLPRegressor):\n",
    "            modelo = MLPRegressor(**dict(hyperparameters_atuais))\n",
    "        else:\n",
    "            modelo = MLPClassifier(**dict(hyperparameters_atuais))\n",
    "\n",
    "        modelo.fit(x_train, y_train)\n",
    "        predictions = modelo.predict(x_teste)\n",
    "\n",
    "        if isinstance(model, MLPRegressor):\n",
    "            predictions_desnormalizado = scaler_y.inverse_transform(np.array(predictions).reshape(-1, 1)).ravel()\n",
    "            rmse = np.sqrt(np.mean((y_teste - predictions_desnormalizado) ** 2))\n",
    "            return [[rmse, hyperparameters_atuais]]  \n",
    "        else:\n",
    "            accuracy = np.mean(predictions == y_teste)\n",
    "            return [[accuracy, hyperparameters_atuais]]  \n",
    "\n",
    "    resultados = []\n",
    "    for element in hyperparameter_list[hyperparameter][1]:\n",
    "        hyperparameters_temp = hyperparameters_atuais + [(hyperparameter_list[hyperparameter][0], element)]\n",
    "        res = test_hyperparameter_rec(hyperparameter_list, model, x_train, x_teste, y_train, y_teste, scaler_y, hyperparameter=hyperparameter + 1, hyperparameters_atuais=hyperparameters_temp)\n",
    "        resultados.extend(res)  \n",
    "    return resultados\n",
    "\n",
    "def kfold_com_grid_search(model, features_data, label_data, hyperparameters_list, num_folds):\n",
    "    \"\"\"\n",
    "    essa funcao calcula as avaliacoes para todas as combinacoes possiveis, variando os conjuntos de treino e validacao\n",
    "    ao final ela retorna o modelo com o melhor conjunto de hiperparametros e o valor da metrica de avaliacao obtida\n",
    "    \"\"\"\n",
    "    tamanho_particoes = int(np.ceil(len(features_data) / num_folds))\n",
    "\n",
    "    lista_avaliacoes = []\n",
    "\n",
    "    for i in range(num_folds):\n",
    "        inicio = i * tamanho_particoes\n",
    "        fim = min((i + 1) * tamanho_particoes, len(features_data))\n",
    "\n",
    "        x_teste = features_data.iloc[inicio:fim]\n",
    "        y_teste = label_data.iloc[inicio:fim]\n",
    "\n",
    "        x_train_fold = features_data.drop(features_data.index[inicio:fim])\n",
    "        y_train_fold = label_data.drop(label_data.index[inicio:fim])\n",
    "\n",
    "        scaler_x = StandardScaler()\n",
    "        x_train_fold_normalizado = pd.DataFrame(scaler_x.fit_transform(x_train_fold), columns=x_train_fold.columns, index=x_train_fold.index)\n",
    "        x_train_fold = x_train_fold_normalizado.copy()\n",
    "        x_teste_normalizado = pd.DataFrame(scaler_x.transform(x_teste), columns=x_teste.columns, index=x_teste.index)\n",
    "        x_teste = x_teste_normalizado.copy()\n",
    "\n",
    "        if isinstance(model, MLPRegressor):\n",
    "            scaler_y = StandardScaler()\n",
    "            y_train_fold_normalizado = scaler_y.fit_transform(y_train_fold.values.reshape(-1, 1))\n",
    "            y_train_fold = y_train_fold_normalizado.ravel()\n",
    "            avaliacoes = test_hyperparameter_rec(hyperparameter_list=hyperparameters_list, model=model, x_train=x_train_fold, x_teste=x_teste, y_train=y_train_fold, y_teste=y_teste, scaler_y= scaler_y)\n",
    "        else:\n",
    "            avaliacoes = test_hyperparameter_rec(hyperparameter_list=hyperparameters_list, model=model, x_train=x_train_fold, x_teste=x_teste, y_train=y_train_fold, y_teste=y_teste)\n",
    "\n",
    "        lista_avaliacoes.extend(avaliacoes)\n",
    "\n",
    "    combinacoes = {}\n",
    "\n",
    "    for resultado in lista_avaliacoes:\n",
    "        score, params = resultado\n",
    "        params_tuple = tuple(params)  \n",
    "        if params_tuple not in combinacoes:\n",
    "            combinacoes[params_tuple] = []\n",
    "        combinacoes[params_tuple].append(score)\n",
    "\n",
    "    medias_comb = {param: np.mean(scores) for param, scores in combinacoes.items()}\n",
    "\n",
    "    if isinstance(model, MLPRegressor):\n",
    "        melhor_comb = min(medias_comb, key=medias_comb.get)  \n",
    "    else:\n",
    "        melhor_comb = max(medias_comb, key=medias_comb.get)  \n",
    "\n",
    "    return melhor_comb, medias_comb[melhor_comb]\n",
    "\n",
    "\n",
    "def kfold_padrao(model, hyperparameters, features_data, label_data, num_folds):\n",
    "    \"\"\"\n",
    "    essa funcao faz o kfold simples e ao final plota o grafico das diferentes particoes\n",
    "    \"\"\"\n",
    "    tamanho_particoes = int(np.ceil(len(features_data) / num_folds))\n",
    "    curvas = []\n",
    "    rmses = []\n",
    "    for i in range(num_folds):\n",
    "        if isinstance(model, MLPRegressor):\n",
    "            model = MLPRegressor(**dict(hyperparameters))\n",
    "        else:\n",
    "            model = MLPClassifier(**dict(hyperparameters))\n",
    "        inicio = i * tamanho_particoes\n",
    "        fim = min((i + 1) * tamanho_particoes, len(features_data))\n",
    "\n",
    "        x_teste = features_data.iloc[inicio:fim]\n",
    "        y_teste = label_data.iloc[inicio:fim]\n",
    "\n",
    "        x_train_fold = features_data.drop(features_data.index[inicio:fim])\n",
    "        y_train_fold = label_data.drop(label_data.index[inicio:fim])\n",
    "\n",
    "        scaler_x = StandardScaler()\n",
    "        x_train_fold_normalizado = pd.DataFrame(scaler_x.fit_transform(x_train_fold), columns=x_train_fold.columns, index=x_train_fold.index)\n",
    "        x_train_fold = x_train_fold_normalizado.copy()\n",
    "        x_teste_normalizado = pd.DataFrame(scaler_x.transform(x_teste), columns=x_teste.columns, index=x_teste.index)\n",
    "        x_teste = x_teste_normalizado.copy()\n",
    "\n",
    "        if isinstance(model, MLPRegressor):\n",
    "            scaler_y = StandardScaler()\n",
    "            y_train_fold_normalizado = scaler_y.fit_transform(y_train_fold.values.reshape(-1, 1))\n",
    "            y_train_fold = y_train_fold_normalizado.ravel()\n",
    "            y_teste_normalizado = scaler_y.transform(y_teste.values.reshape(-1, 1))\n",
    "            y_teste = y_teste_normalizado.ravel()\n",
    "        \n",
    "        model.fit(x_train_fold_normalizado, y_train_fold)\n",
    "        curvas.append(model.loss_curve_)\n",
    "\n",
    "    fig, axes  = plt.subplots(1, 5, figsize=(20,3))\n",
    "    axes = axes.ravel()\n",
    "    for i, curva in enumerate(curvas):\n",
    "        axes[i].plot(curva)\n",
    "        axes[i].set_title(f'Fold {i+1}')\n",
    "        axes[i].set_xlabel('Iterações')\n",
    "        axes[i].set_ylabel('funcao custo')\n",
    "    plt.tight_layout()\n",
    "\n",
    "    plt.show()    \n"
   ]
  },
  {
   "cell_type": "markdown",
   "metadata": {},
   "source": [
    "## Questão 1"
   ]
  },
  {
   "cell_type": "markdown",
   "metadata": {},
   "source": [
    "### Encontrar o melhor conjunto de hiperparametros"
   ]
  },
  {
   "cell_type": "code",
   "execution_count": 3,
   "metadata": {},
   "outputs": [
    {
     "data": {
      "text/html": [
       "<div>\n",
       "<style scoped>\n",
       "    .dataframe tbody tr th:only-of-type {\n",
       "        vertical-align: middle;\n",
       "    }\n",
       "\n",
       "    .dataframe tbody tr th {\n",
       "        vertical-align: top;\n",
       "    }\n",
       "\n",
       "    .dataframe thead th {\n",
       "        text-align: right;\n",
       "    }\n",
       "</style>\n",
       "<table border=\"1\" class=\"dataframe\">\n",
       "  <thead>\n",
       "    <tr style=\"text-align: right;\">\n",
       "      <th></th>\n",
       "      <th>col1</th>\n",
       "      <th>col2</th>\n",
       "      <th>col3</th>\n",
       "      <th>col4</th>\n",
       "      <th>col5</th>\n",
       "      <th>col6</th>\n",
       "      <th>col7</th>\n",
       "      <th>col8</th>\n",
       "      <th>label</th>\n",
       "    </tr>\n",
       "  </thead>\n",
       "  <tbody>\n",
       "    <tr>\n",
       "      <th>0</th>\n",
       "      <td>139.6</td>\n",
       "      <td>209.4</td>\n",
       "      <td>0.0</td>\n",
       "      <td>192.0</td>\n",
       "      <td>0.0</td>\n",
       "      <td>1047.0</td>\n",
       "      <td>806.9</td>\n",
       "      <td>7.0</td>\n",
       "      <td>14.59</td>\n",
       "    </tr>\n",
       "    <tr>\n",
       "      <th>1</th>\n",
       "      <td>152.0</td>\n",
       "      <td>0.0</td>\n",
       "      <td>112.0</td>\n",
       "      <td>184.0</td>\n",
       "      <td>8.0</td>\n",
       "      <td>992.0</td>\n",
       "      <td>816.0</td>\n",
       "      <td>28.0</td>\n",
       "      <td>12.18</td>\n",
       "    </tr>\n",
       "    <tr>\n",
       "      <th>2</th>\n",
       "      <td>266.0</td>\n",
       "      <td>114.0</td>\n",
       "      <td>0.0</td>\n",
       "      <td>228.0</td>\n",
       "      <td>0.0</td>\n",
       "      <td>932.0</td>\n",
       "      <td>670.0</td>\n",
       "      <td>270.0</td>\n",
       "      <td>51.73</td>\n",
       "    </tr>\n",
       "    <tr>\n",
       "      <th>3</th>\n",
       "      <td>321.3</td>\n",
       "      <td>164.2</td>\n",
       "      <td>0.0</td>\n",
       "      <td>190.5</td>\n",
       "      <td>4.6</td>\n",
       "      <td>870.0</td>\n",
       "      <td>774.0</td>\n",
       "      <td>28.0</td>\n",
       "      <td>57.22</td>\n",
       "    </tr>\n",
       "    <tr>\n",
       "      <th>4</th>\n",
       "      <td>251.4</td>\n",
       "      <td>0.0</td>\n",
       "      <td>118.3</td>\n",
       "      <td>188.5</td>\n",
       "      <td>6.4</td>\n",
       "      <td>1028.4</td>\n",
       "      <td>757.7</td>\n",
       "      <td>14.0</td>\n",
       "      <td>24.43</td>\n",
       "    </tr>\n",
       "    <tr>\n",
       "      <th>...</th>\n",
       "      <td>...</td>\n",
       "      <td>...</td>\n",
       "      <td>...</td>\n",
       "      <td>...</td>\n",
       "      <td>...</td>\n",
       "      <td>...</td>\n",
       "      <td>...</td>\n",
       "      <td>...</td>\n",
       "      <td>...</td>\n",
       "    </tr>\n",
       "    <tr>\n",
       "      <th>1025</th>\n",
       "      <td>265.0</td>\n",
       "      <td>111.0</td>\n",
       "      <td>86.0</td>\n",
       "      <td>195.0</td>\n",
       "      <td>6.0</td>\n",
       "      <td>833.0</td>\n",
       "      <td>790.0</td>\n",
       "      <td>28.0</td>\n",
       "      <td>41.54</td>\n",
       "    </tr>\n",
       "    <tr>\n",
       "      <th>1026</th>\n",
       "      <td>475.0</td>\n",
       "      <td>0.0</td>\n",
       "      <td>0.0</td>\n",
       "      <td>228.0</td>\n",
       "      <td>0.0</td>\n",
       "      <td>932.0</td>\n",
       "      <td>594.0</td>\n",
       "      <td>90.0</td>\n",
       "      <td>42.23</td>\n",
       "    </tr>\n",
       "    <tr>\n",
       "      <th>1027</th>\n",
       "      <td>425.0</td>\n",
       "      <td>106.3</td>\n",
       "      <td>0.0</td>\n",
       "      <td>151.4</td>\n",
       "      <td>18.6</td>\n",
       "      <td>936.0</td>\n",
       "      <td>803.7</td>\n",
       "      <td>28.0</td>\n",
       "      <td>61.80</td>\n",
       "    </tr>\n",
       "    <tr>\n",
       "      <th>1028</th>\n",
       "      <td>181.4</td>\n",
       "      <td>0.0</td>\n",
       "      <td>167.0</td>\n",
       "      <td>169.6</td>\n",
       "      <td>7.6</td>\n",
       "      <td>1055.6</td>\n",
       "      <td>777.8</td>\n",
       "      <td>100.0</td>\n",
       "      <td>45.37</td>\n",
       "    </tr>\n",
       "    <tr>\n",
       "      <th>1029</th>\n",
       "      <td>531.3</td>\n",
       "      <td>0.0</td>\n",
       "      <td>0.0</td>\n",
       "      <td>141.8</td>\n",
       "      <td>28.2</td>\n",
       "      <td>852.1</td>\n",
       "      <td>893.7</td>\n",
       "      <td>28.0</td>\n",
       "      <td>56.40</td>\n",
       "    </tr>\n",
       "  </tbody>\n",
       "</table>\n",
       "<p>1030 rows × 9 columns</p>\n",
       "</div>"
      ],
      "text/plain": [
       "       col1   col2   col3   col4  col5    col6   col7   col8  label \n",
       "0     139.6  209.4    0.0  192.0   0.0  1047.0  806.9    7.0   14.59\n",
       "1     152.0    0.0  112.0  184.0   8.0   992.0  816.0   28.0   12.18\n",
       "2     266.0  114.0    0.0  228.0   0.0   932.0  670.0  270.0   51.73\n",
       "3     321.3  164.2    0.0  190.5   4.6   870.0  774.0   28.0   57.22\n",
       "4     251.4    0.0  118.3  188.5   6.4  1028.4  757.7   14.0   24.43\n",
       "...     ...    ...    ...    ...   ...     ...    ...    ...     ...\n",
       "1025  265.0  111.0   86.0  195.0   6.0   833.0  790.0   28.0   41.54\n",
       "1026  475.0    0.0    0.0  228.0   0.0   932.0  594.0   90.0   42.23\n",
       "1027  425.0  106.3    0.0  151.4  18.6   936.0  803.7   28.0   61.80\n",
       "1028  181.4    0.0  167.0  169.6   7.6  1055.6  777.8  100.0   45.37\n",
       "1029  531.3    0.0    0.0  141.8  28.2   852.1  893.7   28.0   56.40\n",
       "\n",
       "[1030 rows x 9 columns]"
      ]
     },
     "execution_count": 3,
     "metadata": {},
     "output_type": "execute_result"
    }
   ],
   "source": [
    "data_1 = pd.read_csv('concrete.csv')\n",
    "data_1 = data_1.sample(frac =1).reset_index(drop= True)\n",
    "\n",
    "train, test = train_test_split(data_1, test_size= 0.2)\n",
    "\n",
    "X_train = train.iloc[:, :-1]\n",
    "y_train = train.iloc[:,-1].astype('int')\n",
    "X_teste = test.iloc[:, :-1]\n",
    "y_teste = test.iloc[:, -1].astype('int')\n",
    "y_teste = np.array(y_teste)\n",
    "\n",
    "data_1"
   ]
  },
  {
   "cell_type": "code",
   "execution_count": 4,
   "metadata": {},
   "outputs": [],
   "source": [
    "hyperparameter_list = [\n",
    "    (\"learning_rate_init\", [0.01, 0.1]),\n",
    "    ('momentum', [0.8, 0.9]),\n",
    "    ('batch_size', [10, 20, 40]),\n",
    "    ('hidden_layer_sizes', [(20,), (50,), (100,)]),\n",
    "    ('max_iter', [1000]),\n",
    "    (\"activation\", ['relu', 'tanh']),\n",
    "    (\"solver\", ['sgd'])\n",
    "]\n",
    "\n",
    "melhores_hiperparametros, rmse_best_model = kfold_com_grid_search(model = MLPRegressor(), features_data= X_train, label_data= y_train , hyperparameters_list= hyperparameter_list, num_folds= 5)"
   ]
  },
  {
   "cell_type": "code",
   "execution_count": 5,
   "metadata": {},
   "outputs": [
    {
     "data": {
      "text/plain": [
       "5.165799596473081"
      ]
     },
     "execution_count": 5,
     "metadata": {},
     "output_type": "execute_result"
    }
   ],
   "source": [
    "rmse_best_model"
   ]
  },
  {
   "cell_type": "markdown",
   "metadata": {},
   "source": [
    "Por questão de espaço e quantidade de combinações possíveis, não seria possível criar todas as curvas de aprendizado, por conta disso apenas irei recriar as curvas de aprendizado do melhor modelo para mostrar sua convergência. Mas é importante frisar que em nenhum dos casos foi levantado o warning de falha de convergência pelo sklearn, que ocorre quando o modelo não tem o número de iterações necessárias para convergir"
   ]
  },
  {
   "cell_type": "code",
   "execution_count": 6,
   "metadata": {},
   "outputs": [
    {
     "name": "stdout",
     "output_type": "stream",
     "text": [
      "(('learning_rate_init', 0.01), ('momentum', 0.8), ('batch_size', 20), ('hidden_layer_sizes', (100,)), ('max_iter', 1000), ('activation', 'relu'), ('solver', 'sgd'))\n"
     ]
    }
   ],
   "source": [
    "print(melhores_hiperparametros)"
   ]
  },
  {
   "cell_type": "code",
   "execution_count": 7,
   "metadata": {},
   "outputs": [
    {
     "data": {
      "image/png": "[encoded data removed]",
      "text/plain": [
       "<Figure size 2000x300 with 5 Axes>"
      ]
     },
     "metadata": {},
     "output_type": "display_data"
    }
   ],
   "source": [
    "model = MLPRegressor()\n",
    "kfold_padrao(model=model, hyperparameters= melhores_hiperparametros, features_data= X_train, label_data= y_train, num_folds= 5)"
   ]
  },
  {
   "cell_type": "markdown",
   "metadata": {},
   "source": [
    "### Testar o modelo para os dados de teste também"
   ]
  },
  {
   "cell_type": "code",
   "execution_count": 8,
   "metadata": {},
   "outputs": [],
   "source": [
    "y_teste = np.array(y_teste)\n",
    "\n",
    "model = MLPRegressor(**dict(melhores_hiperparametros))\n",
    "scaler_x = StandardScaler()\n",
    "scaler_y = StandardScaler()\n",
    "\n",
    "X_train_normalizado = pd.DataFrame(scaler_x.fit_transform(X_train), columns= X_train.columns)\n",
    "X_teste_normalizado = pd.DataFrame(scaler_x.transform(X_teste), columns= X_teste.columns)\n",
    "y_train_normalizado = scaler_y.fit_transform(np.array(y_train).reshape(-1, 1)).ravel()\n",
    "model.fit(X_train_normalizado, y_train_normalizado)\n",
    "predictions = model.predict(X_teste_normalizado)\n",
    "predictions_desnormalizadas = scaler_y.inverse_transform(predictions.reshape(-1,1)).ravel()\n"
   ]
  },
  {
   "cell_type": "markdown",
   "metadata": {},
   "source": [
    "Cálculo das metricas"
   ]
  },
  {
   "cell_type": "code",
   "execution_count": 9,
   "metadata": {},
   "outputs": [
    {
     "name": "stdout",
     "output_type": "stream",
     "text": [
      "rmse do modelo eh igual a 4.734711153512163\n"
     ]
    }
   ],
   "source": [
    "rmse = np.sqrt(np.mean((predictions_desnormalizadas - y_teste)**2 )) \n",
    "print(f'rmse do modelo eh igual a {rmse}')"
   ]
  },
  {
   "cell_type": "code",
   "execution_count": 10,
   "metadata": {},
   "outputs": [
    {
     "name": "stdout",
     "output_type": "stream",
     "text": [
      "mean absolute error do modelo eh 3.699753561927741\n"
     ]
    }
   ],
   "source": [
    "mae = np.mean(np.abs(predictions_desnormalizadas - y_teste))\n",
    "print(f'mean absolute error do modelo eh {mae}')"
   ]
  },
  {
   "cell_type": "code",
   "execution_count": 11,
   "metadata": {},
   "outputs": [
    {
     "name": "stdout",
     "output_type": "stream",
     "text": [
      "mean relative error do modelo eh 0.12686165021536477\n"
     ]
    }
   ],
   "source": [
    "mre = np.mean(np.abs( (predictions_desnormalizadas -y_teste)/y_teste))\n",
    "print(f'mean relative error do modelo eh {mre}')"
   ]
  },
  {
   "cell_type": "markdown",
   "metadata": {},
   "source": [
    "## Questão 2"
   ]
  },
  {
   "cell_type": "markdown",
   "metadata": {},
   "source": [
    "### Encontrar o melhor conjunto de hiperparametros"
   ]
  },
  {
   "cell_type": "code",
   "execution_count": 12,
   "metadata": {},
   "outputs": [
    {
     "data": {
      "text/html": [
       "<div>\n",
       "<style scoped>\n",
       "    .dataframe tbody tr th:only-of-type {\n",
       "        vertical-align: middle;\n",
       "    }\n",
       "\n",
       "    .dataframe tbody tr th {\n",
       "        vertical-align: top;\n",
       "    }\n",
       "\n",
       "    .dataframe thead th {\n",
       "        text-align: right;\n",
       "    }\n",
       "</style>\n",
       "<table border=\"1\" class=\"dataframe\">\n",
       "  <thead>\n",
       "    <tr style=\"text-align: right;\">\n",
       "      <th></th>\n",
       "      <th>col1</th>\n",
       "      <th>col2</th>\n",
       "      <th>col3</th>\n",
       "      <th>col4</th>\n",
       "      <th>col</th>\n",
       "      <th>col5</th>\n",
       "      <th>col6</th>\n",
       "      <th>col7</th>\n",
       "      <th>col8</th>\n",
       "      <th>col9</th>\n",
       "      <th>label</th>\n",
       "    </tr>\n",
       "  </thead>\n",
       "  <tbody>\n",
       "    <tr>\n",
       "      <th>0</th>\n",
       "      <td>-2.851</td>\n",
       "      <td>1.412</td>\n",
       "      <td>-0.184</td>\n",
       "      <td>1.281</td>\n",
       "      <td>0.000</td>\n",
       "      <td>-0.146</td>\n",
       "      <td>-0.172</td>\n",
       "      <td>-0.419</td>\n",
       "      <td>-0.307</td>\n",
       "      <td>0.874</td>\n",
       "      <td>1.0</td>\n",
       "    </tr>\n",
       "    <tr>\n",
       "      <th>1</th>\n",
       "      <td>-2.972</td>\n",
       "      <td>1.151</td>\n",
       "      <td>-0.293</td>\n",
       "      <td>1.609</td>\n",
       "      <td>-0.724</td>\n",
       "      <td>0.123</td>\n",
       "      <td>-0.087</td>\n",
       "      <td>-0.801</td>\n",
       "      <td>0.040</td>\n",
       "      <td>1.070</td>\n",
       "      <td>1.0</td>\n",
       "    </tr>\n",
       "    <tr>\n",
       "      <th>2</th>\n",
       "      <td>-4.717</td>\n",
       "      <td>3.059</td>\n",
       "      <td>-0.682</td>\n",
       "      <td>0.532</td>\n",
       "      <td>-0.480</td>\n",
       "      <td>0.731</td>\n",
       "      <td>0.174</td>\n",
       "      <td>0.493</td>\n",
       "      <td>0.635</td>\n",
       "      <td>-0.473</td>\n",
       "      <td>10.0</td>\n",
       "    </tr>\n",
       "    <tr>\n",
       "      <th>3</th>\n",
       "      <td>-2.652</td>\n",
       "      <td>2.156</td>\n",
       "      <td>-0.053</td>\n",
       "      <td>1.694</td>\n",
       "      <td>-1.258</td>\n",
       "      <td>0.062</td>\n",
       "      <td>-0.610</td>\n",
       "      <td>1.397</td>\n",
       "      <td>0.133</td>\n",
       "      <td>0.602</td>\n",
       "      <td>3.0</td>\n",
       "    </tr>\n",
       "    <tr>\n",
       "      <th>4</th>\n",
       "      <td>-2.797</td>\n",
       "      <td>2.706</td>\n",
       "      <td>-1.936</td>\n",
       "      <td>0.147</td>\n",
       "      <td>-0.921</td>\n",
       "      <td>1.240</td>\n",
       "      <td>-0.082</td>\n",
       "      <td>-0.006</td>\n",
       "      <td>-0.214</td>\n",
       "      <td>-0.064</td>\n",
       "      <td>5.0</td>\n",
       "    </tr>\n",
       "    <tr>\n",
       "      <th>...</th>\n",
       "      <td>...</td>\n",
       "      <td>...</td>\n",
       "      <td>...</td>\n",
       "      <td>...</td>\n",
       "      <td>...</td>\n",
       "      <td>...</td>\n",
       "      <td>...</td>\n",
       "      <td>...</td>\n",
       "      <td>...</td>\n",
       "      <td>...</td>\n",
       "      <td>...</td>\n",
       "    </tr>\n",
       "    <tr>\n",
       "      <th>985</th>\n",
       "      <td>-4.283</td>\n",
       "      <td>2.829</td>\n",
       "      <td>0.296</td>\n",
       "      <td>0.086</td>\n",
       "      <td>-0.544</td>\n",
       "      <td>0.501</td>\n",
       "      <td>-0.317</td>\n",
       "      <td>0.995</td>\n",
       "      <td>-0.340</td>\n",
       "      <td>-1.113</td>\n",
       "      <td>10.0</td>\n",
       "    </tr>\n",
       "    <tr>\n",
       "      <th>986</th>\n",
       "      <td>-4.138</td>\n",
       "      <td>1.128</td>\n",
       "      <td>-0.601</td>\n",
       "      <td>1.553</td>\n",
       "      <td>-0.019</td>\n",
       "      <td>2.039</td>\n",
       "      <td>-0.176</td>\n",
       "      <td>0.262</td>\n",
       "      <td>-0.551</td>\n",
       "      <td>-0.362</td>\n",
       "      <td>10.0</td>\n",
       "    </tr>\n",
       "    <tr>\n",
       "      <th>987</th>\n",
       "      <td>-2.676</td>\n",
       "      <td>1.411</td>\n",
       "      <td>-0.098</td>\n",
       "      <td>1.047</td>\n",
       "      <td>-0.040</td>\n",
       "      <td>-0.131</td>\n",
       "      <td>-0.560</td>\n",
       "      <td>-0.030</td>\n",
       "      <td>-0.192</td>\n",
       "      <td>0.705</td>\n",
       "      <td>1.0</td>\n",
       "    </tr>\n",
       "    <tr>\n",
       "      <th>988</th>\n",
       "      <td>-4.094</td>\n",
       "      <td>3.586</td>\n",
       "      <td>-0.845</td>\n",
       "      <td>-0.026</td>\n",
       "      <td>-0.538</td>\n",
       "      <td>0.964</td>\n",
       "      <td>0.666</td>\n",
       "      <td>0.647</td>\n",
       "      <td>-0.412</td>\n",
       "      <td>-0.477</td>\n",
       "      <td>4.0</td>\n",
       "    </tr>\n",
       "    <tr>\n",
       "      <th>989</th>\n",
       "      <td>-3.194</td>\n",
       "      <td>1.589</td>\n",
       "      <td>-0.774</td>\n",
       "      <td>0.814</td>\n",
       "      <td>-1.087</td>\n",
       "      <td>0.618</td>\n",
       "      <td>0.218</td>\n",
       "      <td>-0.450</td>\n",
       "      <td>-0.003</td>\n",
       "      <td>0.526</td>\n",
       "      <td>0.0</td>\n",
       "    </tr>\n",
       "  </tbody>\n",
       "</table>\n",
       "<p>990 rows × 11 columns</p>\n",
       "</div>"
      ],
      "text/plain": [
       "      col1   col2   col3   col4    col   col5   col6   col7   col8   col9  \\\n",
       "0   -2.851  1.412 -0.184  1.281  0.000 -0.146 -0.172 -0.419 -0.307  0.874   \n",
       "1   -2.972  1.151 -0.293  1.609 -0.724  0.123 -0.087 -0.801  0.040  1.070   \n",
       "2   -4.717  3.059 -0.682  0.532 -0.480  0.731  0.174  0.493  0.635 -0.473   \n",
       "3   -2.652  2.156 -0.053  1.694 -1.258  0.062 -0.610  1.397  0.133  0.602   \n",
       "4   -2.797  2.706 -1.936  0.147 -0.921  1.240 -0.082 -0.006 -0.214 -0.064   \n",
       "..     ...    ...    ...    ...    ...    ...    ...    ...    ...    ...   \n",
       "985 -4.283  2.829  0.296  0.086 -0.544  0.501 -0.317  0.995 -0.340 -1.113   \n",
       "986 -4.138  1.128 -0.601  1.553 -0.019  2.039 -0.176  0.262 -0.551 -0.362   \n",
       "987 -2.676  1.411 -0.098  1.047 -0.040 -0.131 -0.560 -0.030 -0.192  0.705   \n",
       "988 -4.094  3.586 -0.845 -0.026 -0.538  0.964  0.666  0.647 -0.412 -0.477   \n",
       "989 -3.194  1.589 -0.774  0.814 -1.087  0.618  0.218 -0.450 -0.003  0.526   \n",
       "\n",
       "     label  \n",
       "0      1.0  \n",
       "1      1.0  \n",
       "2     10.0  \n",
       "3      3.0  \n",
       "4      5.0  \n",
       "..     ...  \n",
       "985   10.0  \n",
       "986   10.0  \n",
       "987    1.0  \n",
       "988    4.0  \n",
       "989    0.0  \n",
       "\n",
       "[990 rows x 11 columns]"
      ]
     },
     "execution_count": 12,
     "metadata": {},
     "output_type": "execute_result"
    }
   ],
   "source": [
    "data_2 = pd.read_csv('vowel.csv')\n",
    "data_2 = data_2.sample(frac =1).reset_index(drop= True)\n",
    "train, test = train_test_split(data_2, test_size= 0.2)\n",
    "\n",
    "X_train = train.iloc[:, :-1]\n",
    "y_train = train.iloc[:,-1].astype('int')\n",
    "X_teste = test.iloc[:, :-1]\n",
    "y_teste = test.iloc[:, -1].astype('int')\n",
    "\n",
    "data_2"
   ]
  },
  {
   "cell_type": "code",
   "execution_count": null,
   "metadata": {},
   "outputs": [],
   "source": [
    "hyperparameter_list = [\n",
    "    (\"learning_rate_init\", [0.01, 0.1]),\n",
    "    ('momentum', [0.8, 0.9]),\n",
    "    ('batch_size', [10, 20, 40]),\n",
    "    ('hidden_layer_sizes', [(20,), (50,), (100,)]),\n",
    "    ('max_iter', [1000]),\n",
    "    (\"activation\", ['relu', 'tanh']), \n",
    "    (\"solver\", ['sgd'])\n",
    "]\n",
    "\n",
    "melhores_hiperparametros, acuracia_melhor_modelo = kfold_com_grid_search(model = MLPClassifier(), features_data= X_train, label_data= y_train , hyperparameters_list= hyperparameter_list, num_folds= 5)"
   ]
  },
  {
   "cell_type": "code",
   "execution_count": 14,
   "metadata": {},
   "outputs": [
    {
     "name": "stdout",
     "output_type": "stream",
     "text": [
      "0.9521044992743105\n"
     ]
    }
   ],
   "source": [
    "print(acuracia_melhor_modelo)"
   ]
  },
  {
   "cell_type": "markdown",
   "metadata": {},
   "source": [
    "Assim como na primeira questão apenas plotei as curvas de aprendizado do modelo com melhor desempenho, por questões de espaço e pela quantidade de combinações possíveis."
   ]
  },
  {
   "cell_type": "code",
   "execution_count": 15,
   "metadata": {},
   "outputs": [
    {
     "name": "stdout",
     "output_type": "stream",
     "text": [
      "(('learning_rate_init', 0.1), ('momentum', 0.8), ('batch_size', 40), ('hidden_layer_sizes', (50,)), ('max_iter', 1000), ('activation', 'relu'), ('solver', 'sgd'))\n"
     ]
    }
   ],
   "source": [
    "print(melhores_hiperparametros)"
   ]
  },
  {
   "cell_type": "code",
   "execution_count": 16,
   "metadata": {},
   "outputs": [
    {
     "data": {
      "image/png": "[encoded data removed]",
      "text/plain": [
       "<Figure size 2000x300 with 5 Axes>"
      ]
     },
     "metadata": {},
     "output_type": "display_data"
    }
   ],
   "source": [
    "kfold_padrao(model = MLPClassifier(), hyperparameters= melhores_hiperparametros, features_data= X_train, label_data= y_train, num_folds= 5)"
   ]
  },
  {
   "cell_type": "markdown",
   "metadata": {},
   "source": [
    "### Testar o modelo para os dados de teste também"
   ]
  },
  {
   "cell_type": "code",
   "execution_count": 17,
   "metadata": {},
   "outputs": [],
   "source": [
    "model = MLPClassifier(**dict(melhores_hiperparametros))\n",
    "\n",
    "scaler_x = StandardScaler()\n",
    "X_train_normalizado = pd.DataFrame(scaler_x.fit_transform(X_train), columns= X_train.columns)\n",
    "X_teste_normalizado = pd.DataFrame(scaler_x.transform(X_teste), columns= X_teste.columns)\n",
    "model.fit(X_train_normalizado, y_train)\n",
    "predictions = model.predict(X_teste_normalizado)"
   ]
  },
  {
   "cell_type": "markdown",
   "metadata": {},
   "source": [
    "Cálculo da acurácia para os dados de teste"
   ]
  },
  {
   "cell_type": "code",
   "execution_count": 18,
   "metadata": {},
   "outputs": [
    {
     "name": "stdout",
     "output_type": "stream",
     "text": [
      "a acuracia do modelo eh 0.9646464646464646\n"
     ]
    }
   ],
   "source": [
    "acuracia = np.mean(y_teste == predictions)\n",
    "print(f'a acuracia do modelo eh {acuracia}')"
   ]
  }
 ],
 "metadata": {
  "kernelspec": {
   "display_name": "Python 3",
   "language": "python",
   "name": "python3"
  },
  "language_info": {
   "codemirror_mode": {
    "name": "ipython",
    "version": 3
   },
   "file_extension": ".py",
   "mimetype": "text/x-python",
   "name": "python",
   "nbconvert_exporter": "python",
   "pygments_lexer": "ipython3",
   "version": "3.12.0"
  }
 },
 "nbformat": 4,
 "nbformat_minor": 2
}
